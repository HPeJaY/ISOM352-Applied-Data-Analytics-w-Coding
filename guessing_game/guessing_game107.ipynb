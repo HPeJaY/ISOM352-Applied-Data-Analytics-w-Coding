def read_best_score_file(filename): #function for reading the file

    try:
        # open the file and read the lines as usual 
        with open(filename, 'r') as file:
            data = file.readline().strip()
        if data:
            name, guesses = data.split(",") #split into two parts
            return {"player_name": name, "num_guesses": int(guesses)}
        else:
            # Empty file will return default values
            return {"player_name": "No one yet", "num_guesses": 999}
    
    except FileNotFoundError: #handles file error so it doesn't crash and the code continues
        print(f"File '{filename}' not found")
        return {"player_name": "No one yet", "num_guesses": 999} #initializing default best score

def write_best_score_file(score_data): #function to write in the file 
    with open("best_score.txt", 'w') as file: #open the file in write mode
        file.write(f"{score_data['player_name']},{score_data['num_guesses']}\n") #writes the player name and number of guesses into file
    print("Best score saved.") 


