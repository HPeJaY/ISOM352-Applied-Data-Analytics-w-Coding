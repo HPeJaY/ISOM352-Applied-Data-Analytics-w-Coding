{
 "cells": [
  {
   "cell_type": "markdown",
   "id": "13850d06",
   "metadata": {},
   "source": [
    "Create an enhanced number guessing game that tracks and saves the best score (fewest guesses) to a file. Your program should:\n",
    "\n",
    "Load previous best score from best_score.txt file\n",
    "Handle missing file scenario - if file doesn't exist, start with default values\n",
    "Play the guessing game and count the number of guesses\n",
    "Compare and update the best score if current player performs better or ties\n",
    "Save updated record back to the file for future games\n",
    "\n",
    "Technical Requirements:\n",
    "File Operations:\n",
    "Use best_score.txt to store the best score data\n",
    "Implement try/except blocks to handle FileNotFoundError when file doesn't exist\n",
    "Use proper file reading/writing techniques with open() and with statements\n",
    "\n",
    "Data Structure:\n",
    "Store best score information in a dictionary with keys: 'player_name' and 'num_guesses'\n",
    "Pass this dictionary between functions for processing and updates\n",
    "\n",
    "Game Logic:\n",
    "Generate random number between 1-100\n",
    "Count total guesses until correct answer\n",
    "Update best score only if current guesses ≤ stored best guesses\n",
    "\n",
    "Error Handling:\n",
    "Handle missing file by initializing default best score (e.g., 999 guesses, \"No one yet\")\n",
    "Ensure program doesn't crash if file operations fail\n",
    "\n",
    "Hint:\n",
    "File Structure: Store data as simple text format (e.g., \"Alice,7\" for name and guesses)\n",
    "Missing File: When FileNotFoundError occurs, create initial dictionary with high guess count\n",
    "Dictionary Usage: Create functions that accept and return dictionaries for best score data\n",
    "File Writing: Always write updated dictionary back to file after game ends"
   ]
  },
  {
   "cell_type": "code",
   "execution_count": null,
   "id": "05a5fdee",
   "metadata": {},
   "outputs": [],
   "source": [
    "def read_best_score_file(filename): #function for reading the file\n",
    "\n",
    "    try:\n",
    "        # open the file and read the lines as usual \n",
    "        with open(filename, 'r') as file:\n",
    "            data = file.readline().strip()\n",
    "        if data:\n",
    "            name, guesses = data.split(\",\") #split into two parts\n",
    "            return {\"player_name\": name, \"num_guesses\": int(guesses)}\n",
    "        else:\n",
    "            # Empty file will return default values\n",
    "            return {\"player_name\": \"No one yet\", \"num_guesses\": 999}\n",
    "    \n",
    "    except FileNotFoundError: #handles file error so it doesn't crash and the code continues\n",
    "        print(f\"File '{filename}' not found\")\n",
    "        return {\"player_name\": \"No one yet\", \"num_guesses\": 999} #initializing default best score\n",
    "\n",
    "def write_best_score_file(score_data): #function to write in the file \n",
    "    with open(\"best_score.txt\", 'w') as file: #open the file in write mode\n",
    "        file.write(f\"{score_data['player_name']},{score_data['num_guesses']}\\n\") #writes the player name and number of guesses into file\n",
    "    print(\"Best score saved.\") "
   ]
  },
  {
   "cell_type": "markdown",
   "id": "dd773bc3",
   "metadata": {},
   "source": [
    "Main"
   ]
  },
  {
   "cell_type": "code",
   "execution_count": null,
   "id": "3e28644f",
   "metadata": {},
   "outputs": [
    {
     "name": "stdout",
     "output_type": "stream",
     "text": [
      "File 'best_score.txt' not found\n",
      "=== NUMBER GUESSING GAME ===\n",
      "Loading best score...\n",
      "Current best: You're the first player\n",
      "I'm thinking of a number between 1-100...\n",
      "Too high! Try again.\n",
      "Too high! Try again.\n",
      "Too low! Try again.\n",
      "Correct! You guessed it in 4 tries.\n",
      "NEW RECORD! First score saved!\n",
      "Saving new best score...\n",
      "Best score saved.\n"
     ]
    }
   ],
   "source": [
    "import random #so we can generate random number \n",
    "\n",
    "best_score = read_best_score_file(\"best_score.txt\") #load previous best score from file\n",
    "\n",
    "print(\"=== NUMBER GUESSING GAME ===\")\n",
    "print(\"Loading best score...\")\n",
    "\n",
    "#shows current best score or tells user they are the first player if none exist\n",
    "if best_score[\"player_name\"] == \"No one yet\":\n",
    "    print(\"Current best: You're the first player\")\n",
    "else:\n",
    "    print(f\"Current best: {best_score['player_name']} with {best_score['num_guesses']} guesses\")\n",
    "\n",
    "name = input(\"Enter your name: \") #ask for player name\n",
    "\n",
    "print(\"I'm thinking of a number between 1-100...\") \n",
    "\n",
    "number = random.randint(1, 100) #generate random number between 1-100\n",
    "guesses = 0 #keeps track of how many guesses\n",
    "\n",
    "while True: #while true since we don't know how many guesses the player is going to take\n",
    "    guess = int(input(\"Your guess: \"))\n",
    "    guesses += 1 #add 1 to the guess counter when it loops through once\n",
    "\n",
    "    #give the player hints to continue guessing\n",
    "    if guess < number:\n",
    "        print(\"Too low! Try again.\")\n",
    "    elif guess > number:\n",
    "        print(\"Too high! Try again.\")\n",
    "    else:\n",
    "        print(f\"Correct! You guessed it in {guesses} tries.\")\n",
    "        break #this exits the loop when the correct guess is found, so it doesn't continuously loop since it's \"while true\"\n",
    "\n",
    "#this if statement checks if this is a new record\n",
    "if guesses <= best_score[\"num_guesses\"]:\n",
    "    if best_score[\"player_name\"] != \"No one yet\": \n",
    "        print(f\"NEW RECORD! {name} beat the previous best of {best_score['num_guesses']} guesses!\") #new record and tells what was beaten\n",
    "    else:\n",
    "        print(\"NEW RECORD! First score saved!\") #this prints if it is the first new record\n",
    "\n",
    "    print(\"Saving new best score...\")\n",
    "    new_score = {\"player_name\": name, \"num_guesses\": guesses}\n",
    "    write_best_score_file(new_score) #new best score is written to the file \n",
    "else:\n",
    "    print(\"You didn't beat the best score this time.\") #this prints if the player didn't beat the best score\n"
   ]
  }
 ],
 "metadata": {
  "kernelspec": {
   "display_name": "Python 3",
   "language": "python",
   "name": "python3"
  },
  "language_info": {
   "codemirror_mode": {
    "name": "ipython",
    "version": 3
   },
   "file_extension": ".py",
   "mimetype": "text/x-python",
   "name": "python",
   "nbconvert_exporter": "python",
   "pygments_lexer": "ipython3",
   "version": "3.12.2"
  }
 },
 "nbformat": 4,
 "nbformat_minor": 5
}
